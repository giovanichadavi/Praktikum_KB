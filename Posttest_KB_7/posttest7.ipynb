{
 "cells": [
  {
   "cell_type": "code",
   "execution_count": 27,
   "id": "2fccc2a1",
   "metadata": {},
   "outputs": [],
   "source": [
    "import tensorflow as tf"
   ]
  },
  {
   "cell_type": "markdown",
   "id": "7b1cbba0",
   "metadata": {},
   "source": [
    "## Membuat tensor 5,5 random"
   ]
  },
  {
   "cell_type": "code",
   "execution_count": 28,
   "id": "b13730d4",
   "metadata": {},
   "outputs": [
    {
     "data": {
      "text/plain": [
       "array([[1.6739347, 4.665907 , 3.2272513, 3.6794307, 3.6094396],\n",
       "       [3.7301965, 4.2274327, 4.812372 , 3.5158038, 3.5684786],\n",
       "       [4.392893 , 5.172362 , 6.6454377, 1.9424376, 3.5952003],\n",
       "       [5.369534 , 5.990097 , 4.3525515, 5.540507 , 5.561638 ],\n",
       "       [3.6593363, 3.573243 , 4.4167976, 2.9131768, 3.322129 ]],\n",
       "      dtype=float32)"
      ]
     },
     "execution_count": 28,
     "metadata": {},
     "output_type": "execute_result"
    }
   ],
   "source": [
    "random_tensor = tf.Variable(tf.random.normal([5,5], mean=4, stddev=1, dtype=tf.float32))\n",
    "random_tensor.read_value().numpy()"
   ]
  },
  {
   "cell_type": "markdown",
   "id": "8191acea",
   "metadata": {},
   "source": [
    "# Membuat List"
   ]
  },
  {
   "cell_type": "code",
   "execution_count": 29,
   "id": "cf7e9deb",
   "metadata": {},
   "outputs": [],
   "source": [
    "list = [[77,31,67,88,33],[55,27,11,5,6],[78,77,43,41,52],[99,82,3,5,95],[13,45,77,72,52]]\n",
    "prime_tensor = tf.convert_to_tensor(list, dtype=tf.int64).numpy()"
   ]
  },
  {
   "cell_type": "code",
   "execution_count": 30,
   "id": "bf4568df",
   "metadata": {},
   "outputs": [
    {
     "name": "stdout",
     "output_type": "stream",
     "text": [
      "Tampilan dimensi dari random tensor\n",
      "[[1.6739347 4.665907  3.2272513 3.6794307 3.6094396]\n",
      " [3.7301965 4.2274327 4.812372  3.5158038 3.5684786]\n",
      " [4.392893  5.172362  6.6454377 1.9424376 3.5952003]\n",
      " [5.369534  5.990097  4.3525515 5.540507  5.561638 ]\n",
      " [3.6593363 3.573243  4.4167976 2.9131768 3.322129 ]]\n",
      "Tampilan dimensi dari prime tensor\n",
      "[[77 31 67 88 33]\n",
      " [55 27 11  5  6]\n",
      " [78 77 43 41 52]\n",
      " [99 82  3  5 95]\n",
      " [13 45 77 72 52]]\n"
     ]
    }
   ],
   "source": [
    "print(\"Tampilan dimensi dari random tensor\")\n",
    "print(random_tensor.read_value().numpy())\n",
    "\n",
    "print(\"Tampilan dimensi dari prime tensor\")\n",
    "print(prime_tensor)"
   ]
  },
  {
   "cell_type": "code",
   "execution_count": 31,
   "id": "37fca9cc",
   "metadata": {},
   "outputs": [
    {
     "data": {
      "text/plain": [
       "<tf.Tensor: shape=(5, 5), dtype=float32, numpy=\n",
       "array([[ 78.673935 ,  35.66591  ,  70.22725  ,  91.67943  ,  36.60944  ],\n",
       "       [ 58.730198 ,  31.227432 ,  15.812372 ,   8.515804 ,   9.568479 ],\n",
       "       [ 82.39289  ,  82.17236  ,  49.64544  ,  42.942436 ,  55.5952   ],\n",
       "       [104.36954  ,  87.9901   ,   7.3525515,  10.540506 , 100.56164  ],\n",
       "       [ 16.659336 ,  48.573242 ,  81.416794 ,  74.91318  ,  55.32213  ]],\n",
       "      dtype=float32)>"
      ]
     },
     "execution_count": 31,
     "metadata": {},
     "output_type": "execute_result"
    }
   ],
   "source": [
    "#Penjumlahan\n",
    "tf.add(random_tensor,prime_tensor)"
   ]
  },
  {
   "cell_type": "code",
   "execution_count": 32,
   "id": "d6c04132",
   "metadata": {},
   "outputs": [
    {
     "data": {
      "text/plain": [
       "<tf.Tensor: shape=(5, 5), dtype=float32, numpy=\n",
       "array([[-75.326065  , -26.334093  , -63.772747  , -84.32057   ,\n",
       "        -29.39056   ],\n",
       "       [-51.269802  , -22.772568  ,  -6.187628  ,  -1.4841962 ,\n",
       "         -2.4315214 ],\n",
       "       [-73.60711   , -71.82764   , -36.35456   , -39.057564  ,\n",
       "        -48.4048    ],\n",
       "       [-93.63046   , -76.0099    ,   1.3525515 ,   0.54050684,\n",
       "        -89.43836   ],\n",
       "       [ -9.340664  , -41.426758  , -72.583206  , -69.08682   ,\n",
       "        -48.67787   ]], dtype=float32)>"
      ]
     },
     "execution_count": 32,
     "metadata": {},
     "output_type": "execute_result"
    }
   ],
   "source": [
    "# Pengurangan\n",
    "tf.subtract(random_tensor,prime_tensor)"
   ]
  },
  {
   "cell_type": "code",
   "execution_count": 33,
   "id": "8c516b49",
   "metadata": {},
   "outputs": [
    {
     "data": {
      "text/plain": [
       "<tf.Tensor: shape=(5, 5), dtype=float32, numpy=\n",
       "array([[128.89297 , 144.64311 , 216.22583 , 323.78992 , 119.1115  ],\n",
       "       [205.16081 , 114.140686,  52.936096,  17.57902 ,  21.410872],\n",
       "       [342.64563 , 398.27185 , 285.7538  ,  79.639946, 186.95041 ],\n",
       "       [531.58386 , 491.18796 ,  13.057654,  27.702534, 528.3556  ],\n",
       "       [ 47.571373, 160.79593 , 340.0934  , 209.74873 , 172.7507  ]],\n",
       "      dtype=float32)>"
      ]
     },
     "execution_count": 33,
     "metadata": {},
     "output_type": "execute_result"
    }
   ],
   "source": [
    "# Perkalian\n",
    "tf.multiply(random_tensor,prime_tensor)"
   ]
  },
  {
   "cell_type": "code",
   "execution_count": 34,
   "id": "7d6485fd",
   "metadata": {},
   "outputs": [
    {
     "data": {
      "text/plain": [
       "<tf.Tensor: shape=(5, 5), dtype=float32, numpy=\n",
       "array([[0.02173941, 0.15051313, 0.04816793, 0.04181171, 0.10937696],\n",
       "       [0.06782176, 0.15657158, 0.43748838, 0.70316076, 0.5947464 ],\n",
       "       [0.05631914, 0.06717353, 0.15454507, 0.04737653, 0.06913847],\n",
       "       [0.05423772, 0.07304996, 1.4508505 , 1.1081014 , 0.05854356],\n",
       "       [0.2814874 , 0.0794054 , 0.05736101, 0.04046079, 0.0638871 ]],\n",
       "      dtype=float32)>"
      ]
     },
     "execution_count": 34,
     "metadata": {},
     "output_type": "execute_result"
    }
   ],
   "source": [
    "# Pembagian\n",
    "tf.divide(random_tensor,prime_tensor)"
   ]
  },
  {
   "cell_type": "code",
   "execution_count": 35,
   "id": "da7fff9b",
   "metadata": {},
   "outputs": [
    {
     "data": {
      "text/plain": [
       "<tf.Tensor: shape=(5, 5), dtype=float32, numpy=\n",
       "array([[0.51517695, 1.5402822 , 1.1716309 , 1.3027581 , 1.2835525 ],\n",
       "       [1.3164608 , 1.4415948 , 1.5711901 , 1.2572682 , 1.2721393 ],\n",
       "       [1.479988  , 1.6433294 , 1.8939306 , 0.6639437 , 1.2795997 ],\n",
       "       [1.6807412 , 1.7901076 , 1.4707623 , 1.712086  , 1.7158927 ],\n",
       "       [1.2972817 , 1.2734735 , 1.4854149 , 1.0692441 , 1.2006059 ]],\n",
       "      dtype=float32)>"
      ]
     },
     "execution_count": 35,
     "metadata": {},
     "output_type": "execute_result"
    }
   ],
   "source": [
    "# Logaritma\n",
    "tf.math.log(random_tensor,prime_tensor)"
   ]
  },
  {
   "cell_type": "code",
   "execution_count": 36,
   "id": "add0e3a6",
   "metadata": {},
   "outputs": [
    {
     "data": {
      "text/plain": [
       "<tf.Tensor: shape=(5, 5), dtype=float32, numpy=\n",
       "array([[1.6899171e+17, 5.4578068e+20, 1.2353683e+34,           inf,\n",
       "        2.4860664e+18],\n",
       "       [2.7876865e+31, 8.0180923e+16, 3.2059098e+07, 5.3718414e+02,\n",
       "        2.0648979e+03],\n",
       "       [          inf,           inf, 2.3362238e+35, 6.6409556e+11,\n",
       "        7.8995208e+28],\n",
       "       [          inf,           inf, 8.2457802e+01, 5.2209253e+03,\n",
       "                  inf],\n",
       "       [2.1097464e+07, 7.7235024e+24,           inf, 2.7190199e+33,\n",
       "        1.2991452e+27]], dtype=float32)>"
      ]
     },
     "execution_count": 36,
     "metadata": {},
     "output_type": "execute_result"
    }
   ],
   "source": [
    "#Perpangkatan\n",
    "tf.pow(random_tensor,prime_tensor)"
   ]
  },
  {
   "cell_type": "code",
   "execution_count": 37,
   "id": "d93be41e",
   "metadata": {},
   "outputs": [
    {
     "data": {
      "text/plain": [
       "<tf.Tensor: shape=(5, 5), dtype=float32, numpy=\n",
       "array([[1048.4298 ,  890.50793,  591.2156 ,  581.22986,  788.2891 ],\n",
       "       [1289.5538 , 1049.2069 ,  788.67725,  821.2112 ,  918.2667 ],\n",
       "       [1380.1156 , 1108.5961 ,  919.63135,  953.46594,  893.04443],\n",
       "       [1703.22   , 1367.9299 , 1057.6772 , 1109.0645 , 1255.0211 ],\n",
       "       [1154.3995 ,  938.38666,  738.94696,  774.73566,  821.37354]],\n",
       "      dtype=float32)>"
      ]
     },
     "execution_count": 37,
     "metadata": {},
     "output_type": "execute_result"
    }
   ],
   "source": [
    "tf.matmul(random_tensor,prime_tensor)"
   ]
  },
  {
   "cell_type": "code",
   "execution_count": 38,
   "id": "fbc670d4",
   "metadata": {},
   "outputs": [
    {
     "data": {
      "text/plain": [
       "array([3, 3, 2, 3, 3], dtype=int64)"
      ]
     },
     "execution_count": 38,
     "metadata": {},
     "output_type": "execute_result"
    }
   ],
   "source": [
    "tf.argmax(random_tensor, axis=0).numpy()"
   ]
  },
  {
   "cell_type": "code",
   "execution_count": 39,
   "id": "5a0fb681",
   "metadata": {},
   "outputs": [
    {
     "data": {
      "text/plain": [
       "array([0, 4, 0, 2, 4], dtype=int64)"
      ]
     },
     "execution_count": 39,
     "metadata": {},
     "output_type": "execute_result"
    }
   ],
   "source": [
    "tf.argmin(random_tensor, axis=0).numpy()"
   ]
  },
  {
   "cell_type": "code",
   "execution_count": 40,
   "id": "a4f0f3ec",
   "metadata": {},
   "outputs": [
    {
     "name": "stdout",
     "output_type": "stream",
     "text": [
      "Size Awal : (5, 5) (5, 5)\n"
     ]
    }
   ],
   "source": [
    "print(f\"Size Awal : {random_tensor.shape} {prime_tensor.shape}\" )"
   ]
  },
  {
   "cell_type": "code",
   "execution_count": 41,
   "id": "6b33e110",
   "metadata": {},
   "outputs": [
    {
     "name": "stdout",
     "output_type": "stream",
     "text": [
      "Size yang sudah di concat (axis = 0) : (10, 5)\n",
      "Size yang sudah di concat (axis = 1) : (5, 10)\n"
     ]
    }
   ],
   "source": [
    "concat_tensor_1 = tf.concat([random_tensor, prime_tensor], axis=0)\n",
    "concat_tensor_2 = tf.concat([random_tensor, prime_tensor], axis=1)\n",
    "print(f\"Size yang sudah di concat (axis = 0) : {concat_tensor_1.shape}\")\n",
    "print(f\"Size yang sudah di concat (axis = 1) : {concat_tensor_2.shape}\")"
   ]
  },
  {
   "cell_type": "code",
   "execution_count": 42,
   "id": "f88d9070",
   "metadata": {},
   "outputs": [
    {
     "data": {
      "text/plain": [
       "array([[4.665907 , 3.6794307, 3.6094396, 3.2272513, 1.6739347],\n",
       "       [4.812372 , 4.2274327, 3.7301965, 3.5684786, 3.5158038],\n",
       "       [6.6454377, 5.172362 , 4.392893 , 3.5952003, 1.9424376],\n",
       "       [5.990097 , 5.561638 , 5.540507 , 5.369534 , 4.3525515],\n",
       "       [4.4167976, 3.6593363, 3.573243 , 3.322129 , 2.9131768]],\n",
       "      dtype=float32)"
      ]
     },
     "execution_count": 42,
     "metadata": {},
     "output_type": "execute_result"
    }
   ],
   "source": [
    "# random_tensor secara descending\n",
    "tf.sort(random_tensor, direction=\"DESCENDING\").numpy()"
   ]
  },
  {
   "cell_type": "code",
   "execution_count": 43,
   "id": "63e0ba65",
   "metadata": {},
   "outputs": [
    {
     "data": {
      "text/plain": [
       "array([[1.6739347, 3.2272513, 3.6094396, 3.6794307, 4.665907 ],\n",
       "       [3.5158038, 3.5684786, 3.7301965, 4.2274327, 4.812372 ],\n",
       "       [1.9424376, 3.5952003, 4.392893 , 5.172362 , 6.6454377],\n",
       "       [4.3525515, 5.369534 , 5.540507 , 5.561638 , 5.990097 ],\n",
       "       [2.9131768, 3.322129 , 3.573243 , 3.6593363, 4.4167976]],\n",
       "      dtype=float32)"
      ]
     },
     "execution_count": 43,
     "metadata": {},
     "output_type": "execute_result"
    }
   ],
   "source": [
    "# random_tensor secara ascending\n",
    "tf.sort(random_tensor, direction=\"ASCENDING\").numpy()"
   ]
  },
  {
   "cell_type": "code",
   "execution_count": 44,
   "id": "0ff209ee",
   "metadata": {},
   "outputs": [
    {
     "data": {
      "text/plain": [
       "array([[88, 77, 67, 33, 31],\n",
       "       [55, 27, 11,  6,  5],\n",
       "       [78, 77, 52, 43, 41],\n",
       "       [99, 95, 82,  5,  3],\n",
       "       [77, 72, 52, 45, 13]], dtype=int64)"
      ]
     },
     "execution_count": 44,
     "metadata": {},
     "output_type": "execute_result"
    }
   ],
   "source": [
    "# prime_tensor secara descending\n",
    "tf.sort(prime_tensor, direction=\"DESCENDING\").numpy()"
   ]
  },
  {
   "cell_type": "code",
   "execution_count": 45,
   "id": "383fad3f",
   "metadata": {},
   "outputs": [
    {
     "data": {
      "text/plain": [
       "array([[31, 33, 67, 77, 88],\n",
       "       [ 5,  6, 11, 27, 55],\n",
       "       [41, 43, 52, 77, 78],\n",
       "       [ 3,  5, 82, 95, 99],\n",
       "       [13, 45, 52, 72, 77]], dtype=int64)"
      ]
     },
     "execution_count": 45,
     "metadata": {},
     "output_type": "execute_result"
    }
   ],
   "source": [
    "# prime_tensor secara ascending\n",
    "tf.sort(prime_tensor, direction=\"ASCENDING\").numpy()"
   ]
  },
  {
   "cell_type": "code",
   "execution_count": null,
   "id": "1f71660d",
   "metadata": {},
   "outputs": [],
   "source": []
  }
 ],
 "metadata": {
  "kernelspec": {
   "display_name": "Python 3 (ipykernel)",
   "language": "python",
   "name": "python3"
  },
  "language_info": {
   "codemirror_mode": {
    "name": "ipython",
    "version": 3
   },
   "file_extension": ".py",
   "mimetype": "text/x-python",
   "name": "python",
   "nbconvert_exporter": "python",
   "pygments_lexer": "ipython3",
   "version": "3.10.4"
  }
 },
 "nbformat": 4,
 "nbformat_minor": 5
}
