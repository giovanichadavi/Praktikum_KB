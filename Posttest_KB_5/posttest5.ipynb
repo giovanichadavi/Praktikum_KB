{
 "cells": [
  {
   "cell_type": "markdown",
   "id": "2040edfe",
   "metadata": {},
   "source": [
    "# Import Library Yang Dibutuhkan"
   ]
  },
  {
   "cell_type": "code",
   "execution_count": null,
   "id": "8a6f25d0",
   "metadata": {},
   "outputs": [],
   "source": [
    "import pandas as pd\n",
    "import numpy as np\n",
    "import matplotlib.pyplot as plt\n",
    "from sklearn.model_selection import train_test_split\n",
    "import pandas as pd\n",
    "from sklearn.preprocessing import MinMaxScaler\n",
    "from sklearn.preprocessing import StandardScaler\n",
    "from sklearn.impute import SimpleImputer\n",
    "from sklearn.preprocessing import OrdinalEncoder\n",
    "from sklearn.preprocessing import OneHotEncoder\n",
    "from sklearn.metrics import accuracy_score, confusion_matrix"
   ]
  },
  {
   "cell_type": "code",
   "execution_count": null,
   "id": "965b4236",
   "metadata": {},
   "outputs": [],
   "source": [
    "df = pd.read_csv('fifa_eda_stats.csv')\n",
    "df.head(10)"
   ]
  },
  {
   "cell_type": "code",
   "execution_count": null,
   "id": "3745b2e2",
   "metadata": {},
   "outputs": [],
   "source": [
    "df.info()"
   ]
  },
  {
   "cell_type": "markdown",
   "id": "0696cec9",
   "metadata": {},
   "source": [
    "# Subset feature dan targetnya"
   ]
  },
  {
   "cell_type": "code",
   "execution_count": null,
   "id": "ad37754a",
   "metadata": {},
   "outputs": [],
   "source": [
    "X = df.iloc[:,:-1] # Target\n",
    "y = df.iloc[:,-1] # Feature"
   ]
  },
  {
   "cell_type": "markdown",
   "id": "043fea80",
   "metadata": {},
   "source": [
    "# Bagi dataset menjadi Training Set dan Testing Set proporsi 70:30"
   ]
  },
  {
   "cell_type": "code",
   "execution_count": null,
   "id": "68ad55b7",
   "metadata": {},
   "outputs": [],
   "source": [
    "X_train, X_test, y_train, y_test = train_test_split(X,y,test_size = 0.3)"
   ]
  },
  {
   "cell_type": "code",
   "execution_count": null,
   "id": "fee4d119",
   "metadata": {},
   "outputs": [],
   "source": [
    "print(\"Dimensi X_train: \", X_train.shape)\n",
    "print(\"Dimensi X_test: \", X_test.shape)\n",
    "print(\"Dimensi y_train: \", y_train.shape)\n",
    "print(\"Dimensi y_test: \", y_test.shape)"
   ]
  },
  {
   "cell_type": "markdown",
   "id": "960d93ef",
   "metadata": {},
   "source": [
    "# Melakukan normalisasi data pada salah satu attribute,dengan menggunakan Min Max scaler (buatlah copy dataset terlebih dahulu)"
   ]
  },
  {
   "cell_type": "code",
   "execution_count": null,
   "id": "dc4ff79e",
   "metadata": {},
   "outputs": [],
   "source": [
    "dfClone = pd.read_csv('fifa_eda_stats.csv')"
   ]
  },
  {
   "cell_type": "code",
   "execution_count": null,
   "id": "eea9bae2",
   "metadata": {},
   "outputs": [],
   "source": [
    "mms = MinMaxScaler()"
   ]
  },
  {
   "cell_type": "code",
   "execution_count": null,
   "id": "0f857324",
   "metadata": {},
   "outputs": [],
   "source": [
    "x_scaled = mms.fit_transform(dfClone[[\"Overall\",\"Potential\",\"International Reputation\"]])"
   ]
  },
  {
   "cell_type": "code",
   "execution_count": null,
   "id": "d607df2e",
   "metadata": {},
   "outputs": [],
   "source": [
    "dfClone.head(10)"
   ]
  },
  {
   "cell_type": "markdown",
   "id": "b8c79315",
   "metadata": {},
   "source": [
    "# Normalilasi dengan metode Z-Score"
   ]
  },
  {
   "cell_type": "code",
   "execution_count": null,
   "id": "fbc63256",
   "metadata": {},
   "outputs": [],
   "source": [
    "dfClone[\"Overall\"] = dfClone[\"Overall\"] / dfClone[\"Overall\"].std()\n",
    "dfClone[\"Potential\"] = dfClone[\"Potential\"] / dfClone[\"Potential\"].std()"
   ]
  },
  {
   "cell_type": "code",
   "execution_count": null,
   "id": "e8c727f3",
   "metadata": {},
   "outputs": [],
   "source": [
    "dfClone.head()"
   ]
  },
  {
   "cell_type": "markdown",
   "id": "22780f5e",
   "metadata": {},
   "source": [
    "# Lakukan standarisasi pada dataset (buatlah copy dataset terlebih dahulu)"
   ]
  },
  {
   "cell_type": "code",
   "execution_count": null,
   "id": "b0e6cd81",
   "metadata": {},
   "outputs": [],
   "source": [
    "plt.plot(dfClone.Overall, dfClone.Potential)\n",
    "plt.show()"
   ]
  },
  {
   "cell_type": "code",
   "execution_count": null,
   "id": "cb134f6f",
   "metadata": {},
   "outputs": [],
   "source": [
    "ss = StandardScaler()"
   ]
  },
  {
   "cell_type": "code",
   "execution_count": null,
   "id": "269f629c",
   "metadata": {},
   "outputs": [],
   "source": [
    "x_skala = ss.fit_transform(dfClone[[\"Overall\",\"Potential\"]])"
   ]
  },
  {
   "cell_type": "code",
   "execution_count": null,
   "id": "680c51c8",
   "metadata": {},
   "outputs": [],
   "source": [
    "data_standardisasi = pd.DataFrame(x_skala)"
   ]
  },
  {
   "cell_type": "code",
   "execution_count": null,
   "id": "9b960339",
   "metadata": {},
   "outputs": [],
   "source": [
    "plt.plot(dfClone.Overall, dfClone.Potential)\n",
    "plt.show()"
   ]
  },
  {
   "cell_type": "markdown",
   "id": "03416201",
   "metadata": {},
   "source": [
    "# Lakukan Data cleaning pada data dengan nilai null (jika tidak ada nilai null pada dataset, maka buatlah menjadi ada). Ganti nilai null sesuai ketentuan. (bilangan bulat : median/modus, bilangan desimal : mean, tulisan : modus). Nilai plus jika strategy yang digunakan menggunakan 3 nilai"
   ]
  },
  {
   "cell_type": "code",
   "execution_count": null,
   "id": "b3b69d28",
   "metadata": {},
   "outputs": [],
   "source": [
    "print(\"Data sebelum dicleaning :\")\n",
    "df.isna().sum()"
   ]
  },
  {
   "cell_type": "code",
   "execution_count": null,
   "id": "777a2f12",
   "metadata": {},
   "outputs": [],
   "source": [
    "imputer = SimpleImputer(strategy=\"mean\")\n",
    "imputerString = SimpleImputer(strategy=\"most_frequent\")"
   ]
  },
  {
   "cell_type": "code",
   "execution_count": null,
   "id": "164c19df",
   "metadata": {},
   "outputs": [],
   "source": [
    "df['Club'] = imputerString.fit_transform(df[['Club']])\n",
    "df['Position'] = imputerString.fit_transform(df[['Position']])\n",
    "df['Preferred Foot'] = imputerString.fit_transform(df[['Preferred Foot']])\n",
    "df['International Reputation'] = imputerString.fit_transform(df[['International Reputation']])\n",
    "df['Weak Foot'] = imputerString.fit_transform(df[['Weak Foot']])\n",
    "df['Skill Moves'] = imputerString.fit_transform(df[['Skill Moves']])\n",
    "df['Work Rate'] = imputerString.fit_transform(df[['Work Rate']])\n",
    "df['Body Type'] = imputerString.fit_transform(df[['Body Type']])\n",
    "df['Jersey Number'] = imputerString.fit_transform(df[['Jersey Number']])\n",
    "df['Joined'] = imputerString.fit_transform(df[['Joined']])\n",
    "df['Loaned From'] = imputerString.fit_transform(df[['Loaned From']])\n",
    "df['Contract Valid Until'] = imputerString.fit_transform(df[['Contract Valid Until']])\n",
    "df['Height'] = imputerString.fit_transform(df[['Height']])\n",
    "df['Weight'] = imputerString.fit_transform(df[['Weight']])\n",
    "df['Crossing'] = imputerString.fit_transform(df[['Crossing']])\n",
    "df['Finishing'] = imputerString.fit_transform(df[['Finishing']])\n",
    "df['HeadingAccuracyHeadingAccuracy'] = imputerString.fit_transform(df[['HeadingAccuracy']])\n",
    "df['ShortPassing'] = imputerString.fit_transform(df[['ShortPassing']])\n",
    "df['Volleys'] = imputerString.fit_transform(df[['Volleys']])\n",
    "df['Dribbling'] = imputerString.fit_transform(df[['Dribbling']])\n",
    "df['Curve'] = imputerString.fit_transform(df[['Curve']])\n",
    "df['FKAccuracy'] = imputerString.fit_transform(df[['FKAccuracy']])\n",
    "df['LongPassing'] = imputerString.fit_transform(df[['LongPassing']])\n",
    "df['BallControl'] = imputerString.fit_transform(df[['BallControl']])\n",
    "df['Acceleration'] = imputerString.fit_transform(df[['Acceleration']])\n",
    "df['SprintSpeed'] = imputerString.fit_transform(df[['SprintSpeed']])\n",
    "df['Agility'] = imputerString.fit_transform(df[['Agility']])\n",
    "df['Reactions'] = imputerString.fit_transform(df[['Reactions']])\n",
    "df['Balance'] = imputerString.fit_transform(df[['Balance']])\n",
    "df['ShotPower'] = imputerString.fit_transform(df[['ShotPower']])\n",
    "df['Jumping'] = imputerString.fit_transform(df[['Jumping']])\n",
    "df['Stamina'] = imputerString.fit_transform(df[['Stamina']])\n",
    "df['Strength'] = imputerString.fit_transform(df[['Strength']])\n",
    "df['LongShots'] = imputerString.fit_transform(df[['LongShots']])\n",
    "df['Aggression'] = imputerString.fit_transform(df[['Aggression']])\n",
    "df['Interceptions'] = imputerString.fit_transform(df[['Interceptions']])\n",
    "df['Positioning'] = imputerString.fit_transform(df[['Positioning']])\n",
    "df['Vision'] = imputerString.fit_transform(df[['Vision']])\n",
    "df['Penalties'] = imputerString.fit_transform(df[['Penalties']])\n",
    "df['Composure'] = imputerString.fit_transform(df[['Composure']])\n",
    "df['Marking'] = imputerString.fit_transform(df[['Marking']])\n",
    "df['StandingTackle'] = imputerString.fit_transform(df[['StandingTackle']])\n",
    "df['SlidingTackle'] = imputerString.fit_transform(df[['SlidingTackle']])\n",
    "df['GKDiving'] = imputerString.fit_transform(df[['GKDiving']])\n",
    "df['GKHandling'] = imputerString.fit_transform(df[['GKHandling']])\n",
    "df['GKKicking'] = imputerString.fit_transform(df[['GKKicking']])\n",
    "df['GKPositioning'] = imputerString.fit_transform(df[['GKPositioning']])\n",
    "df['GKReflexes'] = imputerString.fit_transform(df[['GKReflexes']])\n",
    "df['Release Clause'] = imputerString.fit_transform(df[['Release Clause']])\n",
    "df['HeadingAccuracy'] = imputerString.fit_transform(df[['HeadingAccuracy']])\n"
   ]
  },
  {
   "cell_type": "code",
   "execution_count": null,
   "id": "bfa2868a",
   "metadata": {},
   "outputs": [],
   "source": []
  },
  {
   "cell_type": "code",
   "execution_count": null,
   "id": "54673d99",
   "metadata": {},
   "outputs": [],
   "source": [
    "print(\"Data setelah dicleaning :\")\n",
    "df.isna().sum()"
   ]
  },
  {
   "cell_type": "code",
   "execution_count": null,
   "id": "4bb76e6d",
   "metadata": {},
   "outputs": [],
   "source": [
    "df.info()"
   ]
  },
  {
   "cell_type": "markdown",
   "id": "eb7cfe7b",
   "metadata": {},
   "source": [
    "# Lakukan Data cleaning pada data dengan nilai duplikat. (Jika tidak ada nilai duplikat pada dataset, maka buatlah menjadi ada)"
   ]
  },
  {
   "cell_type": "code",
   "execution_count": null,
   "id": "e5756e35",
   "metadata": {},
   "outputs": [],
   "source": [
    "df.duplicated()"
   ]
  },
  {
   "cell_type": "code",
   "execution_count": null,
   "id": "a4528d35",
   "metadata": {},
   "outputs": [],
   "source": [
    "df[df.duplicated()]"
   ]
  },
  {
   "cell_type": "code",
   "execution_count": null,
   "id": "f02b7917",
   "metadata": {},
   "outputs": [],
   "source": [
    "df.drop_duplicates(inplace=True)"
   ]
  },
  {
   "cell_type": "code",
   "execution_count": null,
   "id": "ce54f25b",
   "metadata": {},
   "outputs": [],
   "source": [
    "df[df.duplicated()]"
   ]
  },
  {
   "cell_type": "code",
   "execution_count": null,
   "id": "c638de0b",
   "metadata": {},
   "outputs": [],
   "source": [
    "df.duplicated().sum()"
   ]
  },
  {
   "cell_type": "code",
   "execution_count": null,
   "id": "fe6dc0b8",
   "metadata": {},
   "outputs": [],
   "source": [
    "df.duplicated().any()"
   ]
  },
  {
   "cell_type": "markdown",
   "id": "fece2c97",
   "metadata": {},
   "source": [
    "# Ganti tipe data salah satu attribute angka"
   ]
  },
  {
   "cell_type": "code",
   "execution_count": null,
   "id": "4136d64e",
   "metadata": {},
   "outputs": [],
   "source": [
    "df.dtypes"
   ]
  },
  {
   "cell_type": "code",
   "execution_count": null,
   "id": "2aeb6dbf",
   "metadata": {},
   "outputs": [],
   "source": [
    "encoder = OrdinalEncoder()\n",
    "df['OverallEncoded'] = encoder.fit_transform(df[['Overall']])"
   ]
  },
  {
   "cell_type": "code",
   "execution_count": null,
   "id": "f7d8bbd6",
   "metadata": {},
   "outputs": [],
   "source": [
    "df.head()"
   ]
  },
  {
   "cell_type": "markdown",
   "id": "2dd24237",
   "metadata": {},
   "source": [
    "# Lakukan one hot encoding pada dataset"
   ]
  },
  {
   "cell_type": "code",
   "execution_count": null,
   "id": "3a6780b8",
   "metadata": {},
   "outputs": [],
   "source": [
    "encoderHot = OneHotEncoder(sparse=False)"
   ]
  },
  {
   "cell_type": "code",
   "execution_count": null,
   "id": "8d35a888",
   "metadata": {},
   "outputs": [],
   "source": [
    "yearEnc = encoder.fit_transform(df[['Overall']])"
   ]
  },
  {
   "cell_type": "code",
   "execution_count": null,
   "id": "873227f9",
   "metadata": {},
   "outputs": [],
   "source": [
    "yearHotEnc = pd.DataFrame(yearEnc)"
   ]
  },
  {
   "cell_type": "code",
   "execution_count": null,
   "id": "c36070c1",
   "metadata": {},
   "outputs": [],
   "source": [
    "df = df.join(yearHotEnc)"
   ]
  },
  {
   "cell_type": "code",
   "execution_count": null,
   "id": "02c21d93",
   "metadata": {},
   "outputs": [],
   "source": [
    "df.head()"
   ]
  },
  {
   "cell_type": "markdown",
   "id": "21df33f9",
   "metadata": {},
   "source": [
    "# Data Split"
   ]
  },
  {
   "cell_type": "code",
   "execution_count": null,
   "id": "92969bee",
   "metadata": {},
   "outputs": [],
   "source": [
    "df.info()"
   ]
  },
  {
   "cell_type": "code",
   "execution_count": null,
   "id": "4152b17a",
   "metadata": {},
   "outputs": [],
   "source": [
    "X = df[['Crossing','Finishing']]\n",
    "y = df[['Club']]\n",
    "X_train, X_test, y_train, y_test = train_test_split(X,y,test_size=0.3)"
   ]
  },
  {
   "cell_type": "markdown",
   "id": "ddeb920e",
   "metadata": {},
   "source": [
    "# Data Normalisasi"
   ]
  },
  {
   "cell_type": "code",
   "execution_count": null,
   "id": "0c2c292a",
   "metadata": {},
   "outputs": [],
   "source": [
    "from sklearn.preprocessing import StandardScaler\n",
    "standardScaler = StandardScaler()\n",
    "X_train_std = standardScaler.fit_transform(X_train)\n",
    "X_test_std = standardScaler.transform(X_test)"
   ]
  },
  {
   "cell_type": "markdown",
   "id": "083996e4",
   "metadata": {},
   "source": [
    "# Algoritma KNN"
   ]
  },
  {
   "cell_type": "code",
   "execution_count": null,
   "id": "9a0dfac2",
   "metadata": {},
   "outputs": [],
   "source": [
    "from sklearn.neighbors import KNeighborsClassifier\n",
    "\n",
    "Knn = KNeighborsClassifier()\n",
    "Knn.fit(X_train_std,y_train)\n",
    "\n",
    "knn_pred = Knn.predict(X_test_std)\n",
    "akurasi_KNN = accuracy_score(y_test, knn_pred)"
   ]
  },
  {
   "cell_type": "code",
   "execution_count": null,
   "id": "8ddd4e1a",
   "metadata": {},
   "outputs": [],
   "source": [
    "print(\"Akurasi dari algoritma KNN :\", round(akurasi_KNN,2))"
   ]
  },
  {
   "cell_type": "markdown",
   "id": "79fdd260",
   "metadata": {},
   "source": [
    "# Algoritma SVM"
   ]
  },
  {
   "cell_type": "code",
   "execution_count": null,
   "id": "29718bd0",
   "metadata": {},
   "outputs": [],
   "source": [
    "from sklearn.svm import SVC\n",
    "svm = SVC()\n",
    "svm.fit(X_train_std,y_train)\n",
    "\n",
    "svm_pred = svm.predict(X_test_std)\n",
    "akurasi_svm = accuracy_score(y_test, svm_pred)"
   ]
  },
  {
   "cell_type": "code",
   "execution_count": null,
   "id": "bd274119",
   "metadata": {},
   "outputs": [],
   "source": [
    "print(\"Akurasi Dari Algoritma SVM :\", round(akurasi_svm,2))"
   ]
  },
  {
   "cell_type": "code",
   "execution_count": null,
   "id": "99caf7d4",
   "metadata": {},
   "outputs": [],
   "source": [
    "from sklearn.model_selection import GridSearchCV\n",
    "modelKNN = KNeighborsClassifier()\n",
    "\n",
    "param_grid = { \"n_neighbors\" :[i for i in range(0,5)]}\n",
    "\n",
    "gsv = GridSearchCV(estimator=modelKNN, param_grid=param_grid, scoring='accuracy', cv=3, n_jobs=-1)\n",
    "\n",
    "gs = gsv.fit(X_train, y_train)"
   ]
  },
  {
   "cell_type": "code",
   "execution_count": null,
   "id": "5c09f0e4",
   "metadata": {},
   "outputs": [],
   "source": [
    "print(gs.best_params_)"
   ]
  },
  {
   "cell_type": "code",
   "execution_count": null,
   "id": "56b80c33",
   "metadata": {},
   "outputs": [],
   "source": [
    "print(\"Akurasi Training Set : \",round(gs.score(X_train,y_train)*100,1),\"%\")"
   ]
  },
  {
   "cell_type": "code",
   "execution_count": null,
   "id": "ab065d8b",
   "metadata": {},
   "outputs": [],
   "source": []
  }
 ],
 "metadata": {
  "kernelspec": {
   "display_name": "Python 3 (ipykernel)",
   "language": "python",
   "name": "python3"
  },
  "language_info": {
   "codemirror_mode": {
    "name": "ipython",
    "version": 3
   },
   "file_extension": ".py",
   "mimetype": "text/x-python",
   "name": "python",
   "nbconvert_exporter": "python",
   "pygments_lexer": "ipython3",
   "version": "3.10.4"
  }
 },
 "nbformat": 4,
 "nbformat_minor": 5
}
