{
 "cells": [
  {
   "cell_type": "markdown",
   "id": "e2ecc001",
   "metadata": {},
   "source": [
    "# Import Library"
   ]
  },
  {
   "cell_type": "code",
   "execution_count": 2,
   "id": "a5bd1030",
   "metadata": {},
   "outputs": [
    {
     "name": "stderr",
     "output_type": "stream",
     "text": [
      "C:\\Users\\ASUS\\AppData\\Local\\Programs\\Python\\Python310\\lib\\site-packages\\tqdm\\auto.py:22: TqdmWarning: IProgress not found. Please update jupyter and ipywidgets. See https://ipywidgets.readthedocs.io/en/stable/user_install.html\n",
      "  from .autonotebook import tqdm as notebook_tqdm\n"
     ]
    }
   ],
   "source": [
    "import os\n",
    "import tensorflow as tf\n",
    "from tensorflow import keras\n",
    "from tensorflow.keras import layers,optimizers,datasets\n",
    "import matplotlib.pyplot as plt\n",
    "import tensorflow_datasets as tfds"
   ]
  },
  {
   "cell_type": "code",
   "execution_count": 3,
   "id": "cc780328",
   "metadata": {},
   "outputs": [],
   "source": [
    "model = tf.keras.Sequential()\n",
    "model.add(tf.keras.layers.Dense(16, activation='relu'))\n",
    "model.add(tf.keras.layers.Dense(32, activation='relu'))\n",
    "model.add(tf.keras.layers.Dense(10, activation='softmax'))"
   ]
  },
  {
   "cell_type": "code",
   "execution_count": 4,
   "id": "f6d38fab",
   "metadata": {},
   "outputs": [
    {
     "name": "stdout",
     "output_type": "stream",
     "text": [
      "Model: \"sequential_1\"\n",
      "_________________________________________________________________\n",
      " Layer (type)                Output Shape              Param #   \n",
      "=================================================================\n",
      " dense_3 (Dense)             (None, 10, 10, 84)        168       \n",
      "                                                                 \n",
      " dense_4 (Dense)             (None, 10, 10, 52)        4420      \n",
      "                                                                 \n",
      " dense_5 (Dense)             (None, 10, 10, 52)        2756      \n",
      "                                                                 \n",
      " dense_6 (Dense)             (None, 10, 10, 52)        2756      \n",
      "                                                                 \n",
      " dense_7 (Dense)             (None, 10, 10, 30)        1590      \n",
      "                                                                 \n",
      "=================================================================\n",
      "Total params: 11,690\n",
      "Trainable params: 11,690\n",
      "Non-trainable params: 0\n",
      "_________________________________________________________________\n"
     ]
    }
   ],
   "source": [
    "model = tf.keras.Sequential([\n",
    "tf.keras.layers.Dense(units=84, input_shape=[10,10,1]),\n",
    "tf.keras.layers.Dense(52, activation='relu'),\n",
    "tf.keras.layers.Dense(52, kernel_initializer=tf.keras.initializers.he_normal),\n",
    "tf.keras.layers.Dense(52, kernel_regularizer=tf.keras.regularizers.l2(0.01)),\n",
    "tf.keras.layers.Dense(30, activation='softmax')\n",
    "])\n",
    "model.summary()"
   ]
  },
  {
   "cell_type": "code",
   "execution_count": 5,
   "id": "97f29aca",
   "metadata": {},
   "outputs": [
    {
     "name": "stdout",
     "output_type": "stream",
     "text": [
      "Epoch 1/50\n",
      "1/1 [==============================] - 1s 1s/step - loss: 71.5418\n",
      "Epoch 2/50\n",
      "1/1 [==============================] - 0s 44ms/step - loss: 33.1353\n",
      "Epoch 3/50\n",
      "1/1 [==============================] - 0s 15ms/step - loss: 15.3594\n",
      "Epoch 4/50\n",
      "1/1 [==============================] - 0s 15ms/step - loss: 7.1321\n",
      "Epoch 5/50\n",
      "1/1 [==============================] - 0s 17ms/step - loss: 3.3240\n",
      "Epoch 6/50\n",
      "1/1 [==============================] - 0s 15ms/step - loss: 1.5614\n",
      "Epoch 7/50\n",
      "1/1 [==============================] - 0s 13ms/step - loss: 0.7454\n",
      "Epoch 8/50\n",
      "1/1 [==============================] - 0s 11ms/step - loss: 0.3676\n",
      "Epoch 9/50\n",
      "1/1 [==============================] - 0s 13ms/step - loss: 0.1925\n",
      "Epoch 10/50\n",
      "1/1 [==============================] - 0s 19ms/step - loss: 0.1114\n",
      "Epoch 11/50\n",
      "1/1 [==============================] - 0s 14ms/step - loss: 0.0736\n",
      "Epoch 12/50\n",
      "1/1 [==============================] - 0s 14ms/step - loss: 0.0560\n",
      "Epoch 13/50\n",
      "1/1 [==============================] - 0s 14ms/step - loss: 0.0477\n",
      "Epoch 14/50\n",
      "1/1 [==============================] - 0s 12ms/step - loss: 0.0437\n",
      "Epoch 15/50\n",
      "1/1 [==============================] - 0s 13ms/step - loss: 0.0417\n",
      "Epoch 16/50\n",
      "1/1 [==============================] - 0s 14ms/step - loss: 0.0406\n",
      "Epoch 17/50\n",
      "1/1 [==============================] - 0s 13ms/step - loss: 0.0399\n",
      "Epoch 18/50\n",
      "1/1 [==============================] - 0s 15ms/step - loss: 0.0395\n",
      "Epoch 19/50\n",
      "1/1 [==============================] - 0s 38ms/step - loss: 0.0391\n",
      "Epoch 20/50\n",
      "1/1 [==============================] - 0s 18ms/step - loss: 0.0388\n",
      "Epoch 21/50\n",
      "1/1 [==============================] - 0s 11ms/step - loss: 0.0385\n",
      "Epoch 22/50\n",
      "1/1 [==============================] - 0s 14ms/step - loss: 0.0382\n",
      "Epoch 23/50\n",
      "1/1 [==============================] - 0s 13ms/step - loss: 0.0379\n",
      "Epoch 24/50\n",
      "1/1 [==============================] - 0s 16ms/step - loss: 0.0376\n",
      "Epoch 25/50\n",
      "1/1 [==============================] - 0s 13ms/step - loss: 0.0374\n",
      "Epoch 26/50\n",
      "1/1 [==============================] - 0s 12ms/step - loss: 0.0371\n",
      "Epoch 27/50\n",
      "1/1 [==============================] - 0s 14ms/step - loss: 0.0368\n",
      "Epoch 28/50\n",
      "1/1 [==============================] - 0s 13ms/step - loss: 0.0366\n",
      "Epoch 29/50\n",
      "1/1 [==============================] - 0s 13ms/step - loss: 0.0363\n",
      "Epoch 30/50\n",
      "1/1 [==============================] - 0s 16ms/step - loss: 0.0360\n",
      "Epoch 31/50\n",
      "1/1 [==============================] - 0s 15ms/step - loss: 0.0358\n",
      "Epoch 32/50\n",
      "1/1 [==============================] - 0s 14ms/step - loss: 0.0355\n",
      "Epoch 33/50\n",
      "1/1 [==============================] - 0s 18ms/step - loss: 0.0352\n",
      "Epoch 34/50\n",
      "1/1 [==============================] - 0s 18ms/step - loss: 0.0350\n",
      "Epoch 35/50\n",
      "1/1 [==============================] - 0s 15ms/step - loss: 0.0347\n",
      "Epoch 36/50\n",
      "1/1 [==============================] - 0s 15ms/step - loss: 0.0345\n",
      "Epoch 37/50\n",
      "1/1 [==============================] - 0s 29ms/step - loss: 0.0342\n",
      "Epoch 38/50\n",
      "1/1 [==============================] - 0s 14ms/step - loss: 0.0340\n",
      "Epoch 39/50\n",
      "1/1 [==============================] - 0s 15ms/step - loss: 0.0337\n",
      "Epoch 40/50\n",
      "1/1 [==============================] - 0s 16ms/step - loss: 0.0335\n",
      "Epoch 41/50\n",
      "1/1 [==============================] - 0s 12ms/step - loss: 0.0332\n",
      "Epoch 42/50\n",
      "1/1 [==============================] - 0s 11ms/step - loss: 0.0330\n",
      "Epoch 43/50\n",
      "1/1 [==============================] - 0s 14ms/step - loss: 0.0328\n",
      "Epoch 44/50\n",
      "1/1 [==============================] - 0s 13ms/step - loss: 0.0325\n",
      "Epoch 45/50\n",
      "1/1 [==============================] - 0s 12ms/step - loss: 0.0323\n",
      "Epoch 46/50\n",
      "1/1 [==============================] - 0s 16ms/step - loss: 0.0320\n",
      "Epoch 47/50\n",
      "1/1 [==============================] - 0s 15ms/step - loss: 0.0318\n",
      "Epoch 48/50\n",
      "1/1 [==============================] - 0s 13ms/step - loss: 0.0316\n",
      "Epoch 49/50\n",
      "1/1 [==============================] - 0s 11ms/step - loss: 0.0313\n",
      "Epoch 50/50\n",
      "1/1 [==============================] - 0s 23ms/step - loss: 0.0311\n",
      "1/1 [==============================] - 0s 307ms/step\n",
      "[[11.839133]\n",
      " [13.745541]\n",
      " [15.651948]]\n"
     ]
    }
   ],
   "source": [
    "import numpy as np\n",
    "\n",
    "#membuat variable x sebagai atribute dan y sebagai label\n",
    "x = np.array([1.0, 2.0, 3.0, 4.0, 5.0, 6.0], dtype=float)\n",
    "y = np.array([2.0, 4.0, 6.0, 8.0, 10.0, 12.0], dtype=float)\n",
    "\n",
    "#membuat sequential dimana hanya 1 dense layer yang dibutuhkan\n",
    "model = tf.keras.Sequential([\n",
    "tf.keras.layers.Dense(units=1, input_shape=[1])\n",
    "])\n",
    "\n",
    "#model di kompilasi dengan optimizer sgd dan loss MSE\n",
    "model.compile(optimizer='sgd', loss='mse')\n",
    "\n",
    "#model di training dengan epoch yang dapat kita atur\n",
    "model.fit(x, y, epochs=50)\n",
    "\n",
    "#mencoba prediksi y dengan model yang telah dilatih\n",
    "y_pred = model.predict([6.0, 7.0, 8.0])\n",
    "print(y_pred)"
   ]
  },
  {
   "cell_type": "markdown",
   "id": "0ab500e4",
   "metadata": {},
   "source": [
    "## Prediksi Data yang baru"
   ]
  },
  {
   "cell_type": "code",
   "execution_count": 6,
   "id": "7778ad93",
   "metadata": {},
   "outputs": [
    {
     "name": "stdout",
     "output_type": "stream",
     "text": [
      "1/1 [==============================] - 0s 54ms/step\n",
      "[[ 8.026319]\n",
      " [ 9.932726]\n",
      " [13.745541]]\n"
     ]
    }
   ],
   "source": [
    "new_data = np.array([4.0,5.0,7.0])\n",
    "y_pred = model.predict(new_data)\n",
    "print(y_pred)"
   ]
  },
  {
   "cell_type": "markdown",
   "id": "8ac9efac",
   "metadata": {},
   "source": [
    "# Klasifikasi dengan Mnist Dataset"
   ]
  },
  {
   "cell_type": "code",
   "execution_count": 7,
   "id": "8335e073",
   "metadata": {},
   "outputs": [
    {
     "name": "stdout",
     "output_type": "stream",
     "text": [
      "Downloading data from https://storage.googleapis.com/tensorflow/tf-keras-datasets/mnist.npz\n",
      "11490434/11490434 [==============================] - 4s 0us/step\n"
     ]
    }
   ],
   "source": [
    "(x_train_raw,y_train_raw), (x_test_raw,y_test_raw) = datasets.mnist.load_data()"
   ]
  },
  {
   "cell_type": "markdown",
   "id": "92f4654e",
   "metadata": {},
   "source": [
    "## Melakukan Encoding"
   ]
  },
  {
   "cell_type": "code",
   "execution_count": 8,
   "id": "25583b2e",
   "metadata": {},
   "outputs": [
    {
     "name": "stdout",
     "output_type": "stream",
     "text": [
      "[0. 0. 0. 0. 0. 0. 0. 1. 0. 0.]\n"
     ]
    }
   ],
   "source": [
    "num_class = 10 \n",
    "\n",
    "#One Hot Encoding\n",
    "y_train = keras.utils.to_categorical(y_train_raw,num_class)\n",
    "y_test = keras.utils.to_categorical(y_test_raw,num_class)\n",
    "\n",
    "print(y_test[0])"
   ]
  },
  {
   "cell_type": "code",
   "execution_count": 9,
   "id": "31c7bc6a",
   "metadata": {},
   "outputs": [
    {
     "data": {
      "image/png": "[encoded data removed]",
      "text/plain": [
       "<Figure size 640x480 with 9 Axes>"
      ]
     },
     "metadata": {},
     "output_type": "display_data"
    }
   ],
   "source": [
    "plt.figure\n",
    "for i in range(9):\n",
    "  plt.subplot(3,3,i+1)\n",
    "  plt.imshow(x_train_raw[i])\n",
    "  plt.axis('off')\n",
    "\n",
    "plt.show()"
   ]
  },
  {
   "cell_type": "code",
   "execution_count": 10,
   "id": "2ecf6bea",
   "metadata": {},
   "outputs": [],
   "source": [
    "x_train = x_train_raw.reshape(60000,784)\n",
    "x_test = x_test_raw.reshape(10000,784)"
   ]
  },
  {
   "cell_type": "code",
   "execution_count": 11,
   "id": "0ac58376",
   "metadata": {},
   "outputs": [],
   "source": [
    "# Normalisasi\n",
    "x_train = x_train.astype('float64')/255"
   ]
  },
  {
   "cell_type": "code",
   "execution_count": 12,
   "id": "64b757f3",
   "metadata": {},
   "outputs": [],
   "source": [
    "# Membuat model mnist dataset\n",
    "model_mnist = keras.Sequential()"
   ]
  },
  {
   "cell_type": "code",
   "execution_count": 13,
   "id": "43f8a920",
   "metadata": {},
   "outputs": [],
   "source": [
    "# Input Layer\n",
    "model_mnist.add(layers.Dense(512,activation='relu',input_dim=784))\n",
    "\n",
    "# Hidden Layer\n",
    "model_mnist.add(layers.Dense(256,activation='relu'))\n",
    "model_mnist.add(layers.Dense(128,activation='relu'))\n",
    "\n",
    "#Output Layer\n",
    "model_mnist.add(layers.Dense(10,activation='softmax'))"
   ]
  },
  {
   "cell_type": "code",
   "execution_count": 14,
   "id": "57331237",
   "metadata": {},
   "outputs": [
    {
     "name": "stdout",
     "output_type": "stream",
     "text": [
      "Model: \"sequential_3\"\n",
      "_________________________________________________________________\n",
      " Layer (type)                Output Shape              Param #   \n",
      "=================================================================\n",
      " dense_9 (Dense)             (None, 512)               401920    \n",
      "                                                                 \n",
      " dense_10 (Dense)            (None, 256)               131328    \n",
      "                                                                 \n",
      " dense_11 (Dense)            (None, 128)               32896     \n",
      "                                                                 \n",
      " dense_12 (Dense)            (None, 10)                1290      \n",
      "                                                                 \n",
      "=================================================================\n",
      "Total params: 567,434\n",
      "Trainable params: 567,434\n",
      "Non-trainable params: 0\n",
      "_________________________________________________________________\n"
     ]
    }
   ],
   "source": [
    "model_mnist.summary()"
   ]
  },
  {
   "cell_type": "markdown",
   "id": "c292d562",
   "metadata": {},
   "source": [
    "# Compile Model"
   ]
  },
  {
   "cell_type": "code",
   "execution_count": 16,
   "id": "850161de",
   "metadata": {},
   "outputs": [],
   "source": [
    "Optimizer = optimizers.Adam(learning_rate=0.0001)\n",
    "model_mnist.compile(loss=keras.losses.categorical_crossentropy,optimizer=Optimizer,\n",
    "                    metrics=['accuracy'])"
   ]
  },
  {
   "cell_type": "code",
   "execution_count": 17,
   "id": "4b5e370a",
   "metadata": {},
   "outputs": [
    {
     "name": "stdout",
     "output_type": "stream",
     "text": [
      "Epoch 1/20\n",
      "469/469 [==============================] - 16s 31ms/step - loss: 0.5447 - accuracy: 0.8608\n",
      "Epoch 2/20\n",
      "469/469 [==============================] - 15s 31ms/step - loss: 0.1924 - accuracy: 0.9445\n",
      "Epoch 3/20\n",
      "469/469 [==============================] - 15s 32ms/step - loss: 0.1413 - accuracy: 0.9592\n",
      "Epoch 4/20\n",
      "469/469 [==============================] - 16s 35ms/step - loss: 0.1129 - accuracy: 0.9673\n",
      "Epoch 5/20\n",
      "469/469 [==============================] - 15s 32ms/step - loss: 0.0919 - accuracy: 0.9733\n",
      "Epoch 6/20\n",
      "469/469 [==============================] - 16s 34ms/step - loss: 0.0767 - accuracy: 0.9776\n",
      "Epoch 7/20\n",
      "469/469 [==============================] - 15s 32ms/step - loss: 0.0646 - accuracy: 0.9814\n",
      "Epoch 8/20\n",
      "469/469 [==============================] - 15s 32ms/step - loss: 0.0552 - accuracy: 0.9843\n",
      "Epoch 9/20\n",
      "469/469 [==============================] - 15s 32ms/step - loss: 0.0465 - accuracy: 0.9868\n",
      "Epoch 10/20\n",
      "469/469 [==============================] - 15s 32ms/step - loss: 0.0396 - accuracy: 0.9893\n",
      "Epoch 11/20\n",
      "469/469 [==============================] - 15s 31ms/step - loss: 0.0337 - accuracy: 0.9913\n",
      "Epoch 12/20\n",
      "469/469 [==============================] - 15s 32ms/step - loss: 0.0288 - accuracy: 0.9922\n",
      "Epoch 13/20\n",
      "469/469 [==============================] - 15s 32ms/step - loss: 0.0249 - accuracy: 0.9936\n",
      "Epoch 14/20\n",
      "469/469 [==============================] - 15s 32ms/step - loss: 0.0204 - accuracy: 0.9950\n",
      "Epoch 15/20\n",
      "469/469 [==============================] - 15s 32ms/step - loss: 0.0181 - accuracy: 0.9960\n",
      "Epoch 16/20\n",
      "469/469 [==============================] - 15s 32ms/step - loss: 0.0148 - accuracy: 0.9968\n",
      "Epoch 17/20\n",
      "469/469 [==============================] - 15s 32ms/step - loss: 0.0126 - accuracy: 0.9974\n",
      "Epoch 18/20\n",
      "469/469 [==============================] - 15s 33ms/step - loss: 0.0104 - accuracy: 0.9980\n",
      "Epoch 19/20\n",
      "469/469 [==============================] - 15s 32ms/step - loss: 0.0087 - accuracy: 0.9984\n",
      "Epoch 20/20\n",
      "469/469 [==============================] - 16s 35ms/step - loss: 0.0078 - accuracy: 0.9987\n"
     ]
    },
    {
     "data": {
      "text/plain": [
       "<keras.callbacks.History at 0x18ed7eb6290>"
      ]
     },
     "execution_count": 17,
     "metadata": {},
     "output_type": "execute_result"
    }
   ],
   "source": [
    "#Training Model\n",
    "model_mnist.fit(x_train,y_train, epochs=20, batch_size=128)"
   ]
  },
  {
   "cell_type": "code",
   "execution_count": 18,
   "id": "ace531a0",
   "metadata": {},
   "outputs": [
    {
     "name": "stdout",
     "output_type": "stream",
     "text": [
      "313/313 [==============================] - 4s 11ms/step - loss: 13.8211 - accuracy: 0.9796\n",
      "Test Loss : 13.821109771728516\n",
      "Test Akurasi : 97.96%\n"
     ]
    }
   ],
   "source": [
    "#Evaluate Model\n",
    "score = model_mnist.evaluate(x_test,y_test, verbose=1)\n",
    "print(f'Test Loss : {score[0]}')\n",
    "print(f'Test Akurasi : {round(score[1] * 100,2)}%')"
   ]
  },
  {
   "cell_type": "code",
   "execution_count": null,
   "id": "9c8cbecb",
   "metadata": {},
   "outputs": [],
   "source": []
  }
 ],
 "metadata": {
  "kernelspec": {
   "display_name": "Python 3 (ipykernel)",
   "language": "python",
   "name": "python3"
  },
  "language_info": {
   "codemirror_mode": {
    "name": "ipython",
    "version": 3
   },
   "file_extension": ".py",
   "mimetype": "text/x-python",
   "name": "python",
   "nbconvert_exporter": "python",
   "pygments_lexer": "ipython3",
   "version": "3.10.4"
  }
 },
 "nbformat": 4,
 "nbformat_minor": 5
}
